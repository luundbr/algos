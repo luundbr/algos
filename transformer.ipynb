{
 "cells": [
  {
   "cell_type": "code",
   "execution_count": 7,
   "id": "35fa2428-339e-4cd2-9163-a1f1a9c87506",
   "metadata": {},
   "outputs": [],
   "source": [
    "import torch\n",
    "import torch.nn as nn\n",
    "from torch.utils.data import Dataset, DataLoader\n",
    "from torch.nn.utils.rnn import pad_sequence"
   ]
  },
  {
   "cell_type": "code",
   "execution_count": 8,
   "id": "73a1d158-6460-4600-b545-3f34294f3ff1",
   "metadata": {},
   "outputs": [],
   "source": [
    "from datasets import load_dataset"
   ]
  },
  {
   "cell_type": "code",
   "execution_count": 9,
   "id": "6087735e-314a-46b4-b818-a559a8a3cd77",
   "metadata": {},
   "outputs": [
    {
     "name": "stderr",
     "output_type": "stream",
     "text": [
      "Generating train split: 100%|█████████████████████████████████████████| 25000/25000 [00:00<00:00, 443389.39 examples/s]\n",
      "Generating test split: 100%|██████████████████████████████████████████| 25000/25000 [00:00<00:00, 466886.62 examples/s]\n",
      "Generating unsupervised split: 100%|██████████████████████████████████| 50000/50000 [00:00<00:00, 331271.71 examples/s]"
     ]
    },
    {
     "name": "stdout",
     "output_type": "stream",
     "text": [
      "25000\n",
      "25000\n"
     ]
    },
    {
     "name": "stderr",
     "output_type": "stream",
     "text": [
      "\n"
     ]
    }
   ],
   "source": [
    "imdb_dataset = load_dataset(\"imdb\", download_mode=\"reuse_cache_if_exists\")\n",
    "\n",
    "train_dataset = imdb_dataset[\"train\"]\n",
    "test_dataset = imdb_dataset[\"test\"]\n",
    "\n",
    "print(len(train_dataset))\n",
    "print(len(test_dataset))"
   ]
  },
  {
   "cell_type": "code",
   "execution_count": null,
   "id": "d5865a94-2d6f-4a07-a20f-c2e96eba05df",
   "metadata": {},
   "outputs": [],
   "source": []
  },
  {
   "cell_type": "code",
   "execution_count": 10,
   "id": "1271d326-284a-4237-b6e7-07fb5e885cfd",
   "metadata": {},
   "outputs": [],
   "source": [
    "def multihead_attention(Q, K, V, nheads):\n",
    "\n",
    "    Q = Q.chunk(nheads, dim=-1)\n",
    "    K = K.chunk(nheads, dim=-1)\n",
    "    V = V.chunk(nheads, dim=-1)\n",
    "\n",
    "    outputs, weights = []\n",
    "    for i in range(nheads):\n",
    "        Q_i = Q[i]\n",
    "        K_i = K[i]\n",
    "        V_i = V[i]\n",
    "\n",
    "        downscaler = torch.sqrt(torch.tensor(Q_i.size(-1)))\n",
    "        \n",
    "        # attention scores (b, m, n)\n",
    "        S = torch.matmul(Q_i, K_i.transpose(-2, -1)) / downscaler  # 4,2,10 -> 4,10,2\n",
    "    \n",
    "        attention_weights = nn.functional.softmax(S, dim=1)\n",
    "        \n",
    "        out = torch.matmul(\n",
    "            attention_weights,\n",
    "            V_i\n",
    "        )\n",
    "        outputs.append(out)\n",
    "        weights.append(attention_weights)\n",
    "\n",
    "    out = torch.cat(outputs, dim=-1)\n",
    "    attention_weights = torch.stack(weights, dim=1)\n",
    "\n",
    "    return out, attention_weights"
   ]
  },
  {
   "cell_type": "code",
   "execution_count": null,
   "id": "db8b22bd-982b-471a-80d3-641202c2c942",
   "metadata": {},
   "outputs": [],
   "source": []
  },
  {
   "cell_type": "code",
   "execution_count": 13,
   "id": "ed5f5e30-2483-4b12-a41d-4d9fb9c329b3",
   "metadata": {},
   "outputs": [],
   "source": [
    "class Word2Vec(nn.Module):\n",
    "    def __init__(self, vocab_size, embedding_dim):\n",
    "        super(Word2Vec, self).__init__()\n",
    "        self.embedding = nn.Embedding(vocab_size, embedding_dim)\n",
    "        self.predictor = nn.Linear(embedding_dim, vocab_size)\n",
    "\n",
    "    def forward(x):\n",
    "        x = self.embedding(x)\n",
    "        x = self.predictor(x)\n",
    "        x = nn.functional.log_softmax(x, dim=-1)\n",
    "        return x"
   ]
  },
  {
   "cell_type": "code",
   "execution_count": 17,
   "id": "84bcfb6b-beea-447a-bb94-c83350e11561",
   "metadata": {},
   "outputs": [],
   "source": [
    "class PositionalEncoding(nn.Module):\n",
    "    def __init__(self, embedding_dim, dropout=0.1, max_len=5000): # embedding dim should match model size\n",
    "        super(PositionalEncoding, self).__init__()\n",
    "        self.dropout = nn.Dropout()\n",
    "\n",
    "        self.pe = torch.zeros(max_len, embedding_dim)\n",
    "        position = torch.arange(0, max_len, dtype=torch.float).unsqeeze(1)\n",
    "        # term in the denominator of the exponent for the sinusoidal function\n",
    "        # creates different frequencies based on the dimension\n",
    "        div_term = torch.exp(torch.arange(0, embedding_dim, 2).float() * (-torch.log(torch.tensor(10000.0)) / embedding_dim))\n",
    "        # compute sin for even indices\n",
    "        pe[:, 0::2] = torch.sin(position * div_term)\n",
    "        # compute cos for odd indices\n",
    "        pe[:, 1::2] = torch.cos(position * div_term)\n",
    "        # add batch dimension\n",
    "        pe = pe.unsqueeze(0)\n",
    "        # put pe into non-parameter loadable state\n",
    "        self.register_buffer('pe', pe)\n",
    "\n",
    "    def forward(x):\n",
    "        x = x + self.pe[:, :x.size(1), :] # all elements from pe up to the size of x second dim\n",
    "        x = self.dropout(x)\n",
    "        return x\n"
   ]
  },
  {
   "cell_type": "code",
   "execution_count": null,
   "id": "8fbb1ba8-bf79-4098-a981-9468edaf1cd6",
   "metadata": {},
   "outputs": [],
   "source": [
    "# TODO vocab transformer model etc"
   ]
  }
 ],
 "metadata": {
  "kernelspec": {
   "display_name": "Python 3 (ipykernel)",
   "language": "python",
   "name": "python3"
  },
  "language_info": {
   "codemirror_mode": {
    "name": "ipython",
    "version": 3
   },
   "file_extension": ".py",
   "mimetype": "text/x-python",
   "name": "python",
   "nbconvert_exporter": "python",
   "pygments_lexer": "ipython3",
   "version": "3.12.1"
  }
 },
 "nbformat": 4,
 "nbformat_minor": 5
}
