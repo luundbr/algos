{
 "cells": [
  {
   "cell_type": "code",
   "execution_count": 1,
   "id": "35fa2428-339e-4cd2-9163-a1f1a9c87506",
   "metadata": {},
   "outputs": [],
   "source": [
    "import torch\n",
    "import torch.nn as nn\n",
    "from torch.utils.data import Dataset, DataLoader\n",
    "from torch.nn.utils.rnn import pad_sequence"
   ]
  },
  {
   "cell_type": "code",
   "execution_count": 2,
   "id": "73a1d158-6460-4600-b545-3f34294f3ff1",
   "metadata": {},
   "outputs": [
    {
     "name": "stderr",
     "output_type": "stream",
     "text": [
      "C:\\Users\\ash\\scoop\\apps\\python\\current\\Lib\\site-packages\\tqdm\\auto.py:21: TqdmWarning: IProgress not found. Please update jupyter and ipywidgets. See https://ipywidgets.readthedocs.io/en/stable/user_install.html\n",
      "  from .autonotebook import tqdm as notebook_tqdm\n"
     ]
    }
   ],
   "source": [
    "from datasets import load_dataset"
   ]
  },
  {
   "cell_type": "code",
   "execution_count": 3,
   "id": "da4970c0-046d-4de5-9f8e-bfb376b54e14",
   "metadata": {},
   "outputs": [],
   "source": [
    "DEVICE = 'cuda:0'"
   ]
  },
  {
   "cell_type": "code",
   "execution_count": 4,
   "id": "6087735e-314a-46b4-b818-a559a8a3cd77",
   "metadata": {},
   "outputs": [
    {
     "name": "stderr",
     "output_type": "stream",
     "text": [
      "Generating train split: 100%|█████████████████████████████████████████| 25000/25000 [00:00<00:00, 431037.37 examples/s]\n",
      "Generating test split: 100%|██████████████████████████████████████████| 25000/25000 [00:00<00:00, 432904.11 examples/s]\n",
      "Generating unsupervised split: 100%|██████████████████████████████████| 50000/50000 [00:00<00:00, 476192.55 examples/s]\n"
     ]
    },
    {
     "name": "stdout",
     "output_type": "stream",
     "text": [
      "25000\n",
      "25000\n"
     ]
    }
   ],
   "source": [
    "imdb_dataset = load_dataset(\"imdb\", download_mode=\"reuse_cache_if_exists\")\n",
    "\n",
    "train_dataset = imdb_dataset[\"train\"]\n",
    "test_dataset = imdb_dataset[\"test\"]\n",
    "\n",
    "print(len(train_dataset))\n",
    "print(len(test_dataset))"
   ]
  },
  {
   "cell_type": "code",
   "execution_count": null,
   "id": "d5865a94-2d6f-4a07-a20f-c2e96eba05df",
   "metadata": {},
   "outputs": [],
   "source": []
  },
  {
   "cell_type": "code",
   "execution_count": 5,
   "id": "1271d326-284a-4237-b6e7-07fb5e885cfd",
   "metadata": {},
   "outputs": [],
   "source": [
    "def multihead_attention_fn(Q, K, V, nheads):\n",
    "    Q = Q.chunk(nheads, dim=-1)\n",
    "    K = K.chunk(nheads, dim=-1)\n",
    "    V = V.chunk(nheads, dim=-1)\n",
    "\n",
    "    outputs = []\n",
    "    weights = []\n",
    "    for i in range(nheads):\n",
    "        Q_i = Q[i]\n",
    "        K_i = K[i]\n",
    "        V_i = V[i]\n",
    "\n",
    "        downscaler = torch.sqrt(torch.tensor(Q_i.size(-1)))\n",
    "        \n",
    "        # attention scores (b, m, n)\n",
    "        S = torch.matmul(Q_i, K_i.transpose(-2, -1)) / downscaler  # 4,2,10 -> 4,10,2\n",
    "    \n",
    "        attention_weights = nn.functional.softmax(S, dim=-1)\n",
    "        \n",
    "        out = torch.matmul(\n",
    "            attention_weights,\n",
    "            V_i\n",
    "        )\n",
    "        outputs.append(out)\n",
    "        weights.append(attention_weights)\n",
    "\n",
    "    out = torch.cat(outputs, dim=-1)\n",
    "    attention_weights = torch.stack(weights, dim=1)\n",
    "\n",
    "    return out, attention_weights\n",
    "\n",
    "\n",
    "class MultiHeadAttention(nn.Module):\n",
    "    def __init__(self, input_dim, nheads):\n",
    "        super(MultiHeadAttention, self).__init__()\n",
    "        self.input_dim = input_dim\n",
    "        self.nheads = nheads\n",
    "\n",
    "        self.Ql = nn.Linear(input_dim, input_dim, bias=False)\n",
    "        self.Kl = nn.Linear(input_dim, input_dim, bias=False)\n",
    "        self.Vl = nn.Linear(input_dim, input_dim, bias=False)\n",
    "\n",
    "    def forward(self, Q, K, V):\n",
    "        out, attention_weights = multihead_attention_fn(\n",
    "            self.Ql(Q),\n",
    "            self.Kl(K),\n",
    "            self.Vl(V),\n",
    "            self.nheads\n",
    "        )\n",
    "        return out, attention_weights"
   ]
  },
  {
   "cell_type": "code",
   "execution_count": null,
   "id": "db8b22bd-982b-471a-80d3-641202c2c942",
   "metadata": {},
   "outputs": [],
   "source": []
  },
  {
   "cell_type": "code",
   "execution_count": 6,
   "id": "ed5f5e30-2483-4b12-a41d-4d9fb9c329b3",
   "metadata": {},
   "outputs": [],
   "source": [
    "class Word2Vec(nn.Module):\n",
    "    def __init__(self, vocab_size, embed_dim):\n",
    "        super(Word2Vec, self).__init__()\n",
    "        self.embedding = nn.Embedding(vocab_size, embed_dim)\n",
    "\n",
    "    def forward(self, x):\n",
    "        x = self.embedding(x)\n",
    "        return x"
   ]
  },
  {
   "cell_type": "code",
   "execution_count": 7,
   "id": "84bcfb6b-beea-447a-bb94-c83350e11561",
   "metadata": {},
   "outputs": [],
   "source": [
    "class PositionalEncoding(nn.Module):\n",
    "    def __init__(self, embed_dim, dropout=0.1, max_len=5000): # embedding dim should match model size\n",
    "        super(PositionalEncoding, self).__init__()\n",
    "        self.dropout = nn.Dropout()\n",
    "\n",
    "        pe = torch.zeros(max_len, embed_dim)\n",
    "        position = torch.arange(0, max_len, dtype=torch.float).unsqueeze(1)\n",
    "        # term in the denominator of the exponent for the sinusoidal function\n",
    "        # creates different frequencies based on the dimension\n",
    "        div_term = torch.exp(torch.arange(0, embed_dim, 2).float() * (-torch.log(torch.tensor(10000.0)) / embed_dim))\n",
    "        # compute sin for even indices\n",
    "        pe[:, 0::2] = torch.sin(position * div_term)\n",
    "        # compute cos for odd indices\n",
    "        pe[:, 1::2] = torch.cos(position * div_term)\n",
    "        # add batch dimension\n",
    "        pe = pe.unsqueeze(0)\n",
    "        # put pe into non-parameter loadable state\n",
    "        self.register_buffer('pe', pe)\n",
    "\n",
    "    def forward(self, x):\n",
    "        x = x + self.pe[:, :x.size(1), :] # all elements from pe up to the size of x second dim\n",
    "        x = self.dropout(x)\n",
    "        return x\n"
   ]
  },
  {
   "cell_type": "code",
   "execution_count": 8,
   "id": "ddee1d5a-ed86-47d6-bc89-9a6f4dad86da",
   "metadata": {},
   "outputs": [],
   "source": [
    "SEQUENCE_LEN = 0"
   ]
  },
  {
   "cell_type": "code",
   "execution_count": 9,
   "id": "a51df41a-ed4d-415b-bd14-91a3a0466fb2",
   "metadata": {},
   "outputs": [],
   "source": [
    "BATCH_SIZE = 4"
   ]
  },
  {
   "cell_type": "code",
   "execution_count": 10,
   "id": "9cc72790-4ddf-49c4-b3f9-30f5a8938216",
   "metadata": {},
   "outputs": [],
   "source": [
    "# BOS and EOS aren't really needed when every instance of input is treated as a sentence\n",
    "\n",
    "PAD_TOKEN = '<PAD>'\n",
    "UNK_TOKEN = '<UNK>'\n",
    "BOS_TOKEN = '<BOS>'\n",
    "EOS_TOKEN = '<EOS>'\n",
    "\n",
    "PAD_TOKEN_IND = 0\n",
    "UNK_TOKEN_IND = 1\n",
    "BOS_TOKEN_IND = 2\n",
    "EOS_TOKEN_IND = 3\n",
    "\n",
    "VOCAB = {\n",
    "    UNK_TOKEN: UNK_TOKEN_IND,\n",
    "    PAD_TOKEN: PAD_TOKEN_IND,\n",
    "    BOS_TOKEN: BOS_TOKEN_IND,\n",
    "    EOS_TOKEN: EOS_TOKEN_IND,\n",
    "}\n",
    "\n",
    "\n",
    "def tokenize_and_build_vocab(list_of_strings, inference=False):\n",
    "    res = []\n",
    "    for st in list_of_strings:\n",
    "        tokens = st.split(' ')\n",
    "        tokens.insert(0, BOS_TOKEN)\n",
    "        tokens.append(EOS_TOKEN)\n",
    "        res.append(tokens)\n",
    "\n",
    "        if not inference:\n",
    "            # we can also filter tokens that are not frequent enough then mark those words as <UNK>\n",
    "            for token in tokens:\n",
    "                if token not in VOCAB:\n",
    "                    VOCAB[token] = len(VOCAB)\n",
    "    \n",
    "    return res\n",
    "\n",
    "\n",
    "def vectorize(list_of_lists_of_tokens, inference=False):\n",
    "    global SEQUENCE_LEN\n",
    "\n",
    "    pad_len = max(len(indices) for indices in list_of_lists_of_tokens)\n",
    "\n",
    "    if inference:\n",
    "        pad_len = SEQUENCE_LEN\n",
    "    else:\n",
    "        SEQUENCE_LEN = pad_len    \n",
    "    \n",
    "    res = []\n",
    "    for tl in list_of_lists_of_tokens:\n",
    "        sent = []\n",
    "        for token in tl:\n",
    "            ind = 0\n",
    "            if token in VOCAB:\n",
    "                ind = VOCAB[token]\n",
    "            else:\n",
    "                ind = VOCAB[UNK_TOKEN]\n",
    "            sent.append(ind)\n",
    "        if len(sent) != pad_len:\n",
    "            for i in range(pad_len - len(sent)):\n",
    "                sent.append(0)  # pad the thing so torch.tensor() in collatefn doesn't yell\n",
    "        res.append(sent)\n",
    "    return res\n",
    "\n",
    "\n",
    "def collate(batch):\n",
    "    # ideally we would pad here\n",
    "    # but pad_sequence expects a tensor which can't be created with inconsistent lengths ¯\\_(ツ)_/¯\n",
    "    data_batch = []\n",
    "    label_batch = []\n",
    "    for data, label in batch:\n",
    "        data_batch.append(data)\n",
    "        label_batch.append(label)\n",
    "    return torch.tensor(data_batch), torch.tensor(label_batch)"
   ]
  },
  {
   "cell_type": "code",
   "execution_count": 11,
   "id": "4b2b48db-ef45-4fbb-a22f-ff419acef35b",
   "metadata": {},
   "outputs": [],
   "source": [
    "import string\n",
    "\n",
    "def remove_punc(text):\n",
    "    translator = str.maketrans('', '', string.punctuation)\n",
    "    return text.translate(translator)\n",
    "\n",
    "\n",
    "def preprocess(list_of_sentences, inference=False):\n",
    "    no_br = [text.replace('<br />', '') for text in list_of_sentences]\n",
    "    \n",
    "    # we gonna treat every review as a whole input sentence to avoid contextual discontinuity\n",
    "    no_cap = [text.lower() for text in no_br]\n",
    "    no_punc = [remove_punc(text) for text in no_cap]\n",
    "    \n",
    "    tokenized_data = tokenize_and_build_vocab(no_punc, inference)\n",
    "\n",
    "    vectorized_data = vectorize(tokenized_data, inference)\n",
    "\n",
    "    print(len(vectorized_data))\n",
    "    print(len(train_dataset['label']))\n",
    "    return vectorized_data"
   ]
  },
  {
   "cell_type": "code",
   "execution_count": 12,
   "id": "e6fca4f7-3997-4d7b-9817-4567ef07ccff",
   "metadata": {},
   "outputs": [
    {
     "name": "stdout",
     "output_type": "stream",
     "text": [
      "25000\n",
      "25000\n"
     ]
    }
   ],
   "source": [
    "TRAIN_DATA = preprocess(train_dataset['text'])"
   ]
  },
  {
   "cell_type": "code",
   "execution_count": null,
   "id": "9c2269ac-10a6-4fcb-980d-1b84e79aa2a9",
   "metadata": {},
   "outputs": [],
   "source": []
  },
  {
   "cell_type": "code",
   "execution_count": 13,
   "id": "8306f13a-9995-4e17-8351-b0eb6427b6ae",
   "metadata": {},
   "outputs": [],
   "source": [
    "train_dataloader = DataLoader(\n",
    "    list(zip(TRAIN_DATA, train_dataset['label'])),\n",
    "    batch_size=BATCH_SIZE,\n",
    "    shuffle=True,\n",
    "    collate_fn=collate\n",
    ")"
   ]
  },
  {
   "cell_type": "code",
   "execution_count": null,
   "id": "43590198-90c5-4330-942a-f6fbd1207072",
   "metadata": {},
   "outputs": [],
   "source": []
  },
  {
   "cell_type": "code",
   "execution_count": 14,
   "id": "bad5eff0-387c-4a14-9d27-e824346b34da",
   "metadata": {},
   "outputs": [],
   "source": [
    "class TransformerBlock(nn.Module):\n",
    "    def __init__(self, embed_dim, nhead=1):\n",
    "        super(TransformerBlock, self).__init__()\n",
    "\n",
    "        self.attention = MultiHeadAttention(embed_dim, nhead)\n",
    "        self.norm1 = nn.LayerNorm(embed_dim)\n",
    "        self.norm2 = nn.LayerNorm(embed_dim)\n",
    "        self.lin = nn.Linear(embed_dim, embed_dim)\n",
    "\n",
    "    def forward(self, x):\n",
    "        x1 = self.norm1(x)\n",
    "        a_out, _ = self.attention(x1, x1, x1)\n",
    "        x = x + a_out\n",
    "\n",
    "        x2 = self.norm2(x)\n",
    "        x = x + self.lin(x2)\n",
    "\n",
    "        return x\n",
    "    "
   ]
  },
  {
   "cell_type": "code",
   "execution_count": null,
   "id": "88dd9e2e-aac6-46dc-b32e-83905a10d6c6",
   "metadata": {},
   "outputs": [],
   "source": []
  },
  {
   "cell_type": "code",
   "execution_count": 15,
   "id": "fcbc6912-e760-4e29-b31b-000e879ac8bc",
   "metadata": {},
   "outputs": [],
   "source": [
    "class Transformer(nn.Module):\n",
    "    def __init__(self, embed_dim, output_dim=2, depth=1, nhead=1):\n",
    "        super(Transformer, self).__init__()\n",
    "\n",
    "        self.embedding = Word2Vec(len(VOCAB), embed_dim)\n",
    "        self.pos_enc = PositionalEncoding(embed_dim)\n",
    "        self.transformer_layers = torch.nn.ModuleList([\n",
    "            TransformerBlock(embed_dim, nhead) for _ in range(depth)\n",
    "        ])\n",
    "        self.classifier = nn.Linear(embed_dim, output_dim)\n",
    "\n",
    "    def forward(self, x):\n",
    "        x = self.embedding(x)\n",
    "        x = self.pos_enc(x)\n",
    "\n",
    "        # since this is binary classification, we don't generate anything and care only about the encoder\n",
    "        for layer in self.transformer_layers:\n",
    "            x = layer(x)\n",
    "\n",
    "        # mean is not in standard transformer arch\n",
    "        # we can do this for classification to summarize information across all representations\n",
    "        x = x.mean(dim=1)\n",
    "        \n",
    "        x = self.classifier(x)\n",
    "        \n",
    "        return x"
   ]
  },
  {
   "cell_type": "code",
   "execution_count": null,
   "id": "94cdd576-41ac-416a-b307-d0f2cb977657",
   "metadata": {},
   "outputs": [],
   "source": []
  },
  {
   "cell_type": "code",
   "execution_count": 16,
   "id": "c9990fc9-317f-4528-bf5f-1e08cf006686",
   "metadata": {},
   "outputs": [],
   "source": [
    "model = Transformer(512).to(DEVICE)"
   ]
  },
  {
   "cell_type": "code",
   "execution_count": 17,
   "id": "eb049bcc-9f56-4db2-af2a-48ccb9922d4b",
   "metadata": {},
   "outputs": [],
   "source": [
    "optimizer = torch.optim.Adam(params=model.parameters(), lr=0.001)\n",
    "loss_fn = nn.CrossEntropyLoss()"
   ]
  },
  {
   "cell_type": "code",
   "execution_count": null,
   "id": "cf925456-0801-41d8-b99b-552a9cfdd6ed",
   "metadata": {},
   "outputs": [],
   "source": []
  },
  {
   "cell_type": "code",
   "execution_count": 18,
   "id": "f9cc3e37-5d96-4d49-916d-0cca1cf62de0",
   "metadata": {},
   "outputs": [],
   "source": [
    "EPOCHS = 5\n",
    "\n",
    "running_loss = 0\n",
    "losses = []"
   ]
  },
  {
   "cell_type": "code",
   "execution_count": 19,
   "id": "995dfa9d-a3ca-4e07-a182-70be041fa194",
   "metadata": {},
   "outputs": [],
   "source": [
    "for epoch in range(EPOCHS):\n",
    "    for data, label in train_dataloader:\n",
    "        data = data.to(DEVICE)\n",
    "        label = label.to(DEVICE)\n",
    "        \n",
    "        optimizer.zero_grad()\n",
    "        \n",
    "        out = model(data)\n",
    "        \n",
    "        loss = loss_fn(out, label)\n",
    "\n",
    "        running_loss += loss.item()\n",
    "        losses.append(loss.item())\n",
    "\n",
    "        loss.backward()\n",
    "        optimizer.step()"
   ]
  },
  {
   "cell_type": "code",
   "execution_count": 20,
   "id": "bd4ba4a4-c678-43a7-9541-76d2b6fe77df",
   "metadata": {},
   "outputs": [
    {
     "data": {
      "image/png": "[encoded data removed]",
      "text/plain": [
       "<Figure size 640x480 with 1 Axes>"
      ]
     },
     "metadata": {},
     "output_type": "display_data"
    }
   ],
   "source": [
    "import matplotlib.pyplot as plt\n",
    "\n",
    "plt.plot(range(len(losses)), losses, 'b', label='Loss')\n",
    "plt.title('Loss')\n",
    "plt.show()"
   ]
  },
  {
   "cell_type": "code",
   "execution_count": null,
   "id": "cb1473a6-96bd-46a1-94cd-d594c1b49ecb",
   "metadata": {},
   "outputs": [],
   "source": []
  },
  {
   "cell_type": "code",
   "execution_count": 21,
   "id": "e0c8c164-52c8-4e8d-8a1e-611dbd21ce43",
   "metadata": {},
   "outputs": [
    {
     "name": "stdout",
     "output_type": "stream",
     "text": [
      "25000\n",
      "25000\n"
     ]
    }
   ],
   "source": [
    "TEST_DATA = preprocess(test_dataset['text'], inference=True)"
   ]
  },
  {
   "cell_type": "code",
   "execution_count": null,
   "id": "9e2e89c0-0606-47e2-9e68-59d1ec16b834",
   "metadata": {},
   "outputs": [],
   "source": []
  },
  {
   "cell_type": "code",
   "execution_count": 22,
   "id": "254d6127-acbf-498a-87de-509643117992",
   "metadata": {},
   "outputs": [],
   "source": [
    "test_dataloader = DataLoader(\n",
    "    list(zip(TEST_DATA, test_dataset['label'])),\n",
    "    batch_size=BATCH_SIZE,\n",
    "    shuffle=True,\n",
    "    collate_fn=collate\n",
    ")"
   ]
  },
  {
   "cell_type": "code",
   "execution_count": 23,
   "id": "4654a3a7-0597-4cff-b13a-70106b41dad7",
   "metadata": {},
   "outputs": [
    {
     "name": "stdout",
     "output_type": "stream",
     "text": [
      "total 25000\n",
      "correct 20198\n",
      "accuracy 0.808\n"
     ]
    }
   ],
   "source": [
    "correct = 0\n",
    "total = 0\n",
    "\n",
    "with torch.no_grad():\n",
    "\tmodel.eval();\n",
    "\tfor data in test_dataloader:\n",
    "\t\tdata, label = data\n",
    "        \n",
    "\t\tdata = data.to(DEVICE)\n",
    "\t\tlabel = label.to(DEVICE)\n",
    "\n",
    "\t\tout = model(data)\n",
    "\t\n",
    "\t\ttotal += label.shape[0]\n",
    "\n",
    "\t\tpreds = torch.argmax(out, dim=1)\n",
    "\t\tcorrect += (preds == label).sum().item()\n",
    "\n",
    "print('total', total)\n",
    "print('correct', correct)\n",
    "print('accuracy', round(correct / total, 3))"
   ]
  },
  {
   "cell_type": "code",
   "execution_count": null,
   "id": "c623ceca-8893-445b-bb7f-0e1063208a78",
   "metadata": {},
   "outputs": [],
   "source": []
  },
  {
   "cell_type": "code",
   "execution_count": 129,
   "id": "92d6ebe4-aac5-4d37-af44-17a296c92668",
   "metadata": {},
   "outputs": [
    {
     "name": "stdout",
     "output_type": "stream",
     "text": [
      "1\n",
      "25000\n"
     ]
    }
   ],
   "source": [
    "bad_query = preprocess(['this movie is very bad'], inference=True)\n",
    "bad_query_tensor = torch.Tensor(bad_query).long().to(DEVICE)\n",
    "bad_o = model(bad_query_tensor)\n",
    "bad_res = torch.argmax(bad_o, dim=1)"
   ]
  },
  {
   "cell_type": "code",
   "execution_count": 130,
   "id": "ce2b1c3b-3a2b-4a84-aca1-3a91ffdf54c6",
   "metadata": {},
   "outputs": [
    {
     "data": {
      "text/plain": [
       "tensor([[ 0.2024, -1.2473]], device='cuda:0', grad_fn=<AddmmBackward0>)"
      ]
     },
     "execution_count": 130,
     "metadata": {},
     "output_type": "execute_result"
    }
   ],
   "source": [
    "bad_o"
   ]
  },
  {
   "cell_type": "code",
   "execution_count": 131,
   "id": "b1638adf-baf3-4275-b81a-4b96ee6cb3b8",
   "metadata": {},
   "outputs": [
    {
     "data": {
      "text/plain": [
       "tensor([0], device='cuda:0')"
      ]
     },
     "execution_count": 131,
     "metadata": {},
     "output_type": "execute_result"
    }
   ],
   "source": [
    "bad_res"
   ]
  },
  {
   "cell_type": "code",
   "execution_count": 141,
   "id": "d2dc7132-32e4-4541-ad70-e7d6e592acdf",
   "metadata": {},
   "outputs": [
    {
     "name": "stdout",
     "output_type": "stream",
     "text": [
      "1\n",
      "25000\n"
     ]
    }
   ],
   "source": [
    "good_query = preprocess(['this movie is very good'], inference=True)\n",
    "good_query_tensor = torch.Tensor(good_query).long().to(DEVICE)\n",
    "good_o = model(good_query_tensor)\n",
    "good_res = torch.argmax(good_o, dim=1)"
   ]
  },
  {
   "cell_type": "code",
   "execution_count": 142,
   "id": "ab7a4cc4-8577-4ea6-b004-7e5d56d89a4d",
   "metadata": {},
   "outputs": [
    {
     "data": {
      "text/plain": [
       "tensor([[-3.4088,  1.2717]], device='cuda:0', grad_fn=<AddmmBackward0>)"
      ]
     },
     "execution_count": 142,
     "metadata": {},
     "output_type": "execute_result"
    }
   ],
   "source": [
    "good_o"
   ]
  },
  {
   "cell_type": "code",
   "execution_count": 143,
   "id": "f2706fe6-b1b0-4444-9182-1ca73001366d",
   "metadata": {},
   "outputs": [
    {
     "data": {
      "text/plain": [
       "tensor([1], device='cuda:0')"
      ]
     },
     "execution_count": 143,
     "metadata": {},
     "output_type": "execute_result"
    }
   ],
   "source": [
    "good_res"
   ]
  },
  {
   "cell_type": "code",
   "execution_count": null,
   "id": "843adfae-c979-44d6-9e84-cb7ab87f31da",
   "metadata": {},
   "outputs": [],
   "source": []
  },
  {
   "cell_type": "code",
   "execution_count": null,
   "id": "5bccbabb-439f-4cf3-85db-90a9a618ca13",
   "metadata": {},
   "outputs": [],
   "source": []
  }
 ],
 "metadata": {
  "kernelspec": {
   "display_name": "Python 3 (ipykernel)",
   "language": "python",
   "name": "python3"
  },
  "language_info": {
   "codemirror_mode": {
    "name": "ipython",
    "version": 3
   },
   "file_extension": ".py",
   "mimetype": "text/x-python",
   "name": "python",
   "nbconvert_exporter": "python",
   "pygments_lexer": "ipython3",
   "version": "3.12.1"
  }
 },
 "nbformat": 4,
 "nbformat_minor": 5
}
