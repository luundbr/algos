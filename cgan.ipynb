{
 "cells": [
  {
   "cell_type": "code",
   "execution_count": 49,
   "id": "23858a14-94bb-4aab-b473-6b01a55a0386",
   "metadata": {},
   "outputs": [
    {
     "name": "stdout",
     "output_type": "stream",
     "text": [
      "%pylab is deprecated, use %matplotlib inline and import the required libraries.\n",
      "Populating the interactive namespace from numpy and matplotlib\n"
     ]
    }
   ],
   "source": [
    "%pylab inline\n",
    "\n",
    "import matplotlib.pyplot as plt"
   ]
  },
  {
   "cell_type": "code",
   "execution_count": 50,
   "id": "e83db960-8968-42e2-ac6f-b9d23a2c221a",
   "metadata": {},
   "outputs": [],
   "source": [
    "import torch\n",
    "import torch.nn as nn"
   ]
  },
  {
   "cell_type": "code",
   "execution_count": 51,
   "id": "239bd0c1-c04e-4e27-b9e4-f3b299518003",
   "metadata": {},
   "outputs": [],
   "source": [
    "from torchvision import datasets\n",
    "from torchvision.transforms import ToTensor, Grayscale, Compose, Normalize"
   ]
  },
  {
   "cell_type": "code",
   "execution_count": 52,
   "id": "254bbe7c-5601-4442-8c28-280a0cfe03a5",
   "metadata": {},
   "outputs": [],
   "source": [
    "import tqdm"
   ]
  },
  {
   "cell_type": "code",
   "execution_count": 53,
   "id": "6f553834-471a-4b20-90a4-eea2feb30de6",
   "metadata": {},
   "outputs": [],
   "source": [
    "figsize(3,3)"
   ]
  },
  {
   "cell_type": "code",
   "execution_count": 54,
   "id": "3289d04d-4dd7-463f-b69f-a4cc5d8f48ce",
   "metadata": {},
   "outputs": [],
   "source": [
    "DEVICE='cuda:0'\n",
    "# DEVICE='cpu'"
   ]
  },
  {
   "cell_type": "code",
   "execution_count": 55,
   "id": "94ba9af9-d2c3-43ad-9188-c77310342ef4",
   "metadata": {},
   "outputs": [],
   "source": [
    "BATCH_SIZE=16"
   ]
  },
  {
   "cell_type": "code",
   "execution_count": 56,
   "id": "d8156ccb-8f3f-4797-a24a-d38cec26d961",
   "metadata": {},
   "outputs": [],
   "source": [
    "%%capture\n",
    "\n",
    "train_data = datasets.MNIST(\n",
    "    root='data',\n",
    "    train=True,\n",
    "    transform=Compose([\n",
    "        ToTensor(),\n",
    "        Normalize((0.5), (0.5))\n",
    "    ]),\n",
    "    download=True\n",
    ")"
   ]
  },
  {
   "cell_type": "code",
   "execution_count": 57,
   "id": "641d4799-dfe0-4466-9049-8897028ee43d",
   "metadata": {},
   "outputs": [],
   "source": [
    "train_data_loader = torch.utils.data.DataLoader(\n",
    "    train_data,\n",
    "    batch_size=BATCH_SIZE,\n",
    "    num_workers=8,\n",
    "    shuffle=False\n",
    ")"
   ]
  },
  {
   "cell_type": "code",
   "execution_count": 58,
   "id": "be9c498e-4341-418d-bc96-4c72d968dd45",
   "metadata": {},
   "outputs": [
    {
     "name": "stdout",
     "output_type": "stream",
     "text": [
      "3750\n"
     ]
    }
   ],
   "source": [
    "print(len(train_data_loader))"
   ]
  },
  {
   "cell_type": "code",
   "execution_count": 59,
   "id": "38ec0ecc-6cf0-476b-a2b7-9f625ea4ce17",
   "metadata": {},
   "outputs": [],
   "source": [
    "IMAGE_DIM_X = None"
   ]
  },
  {
   "cell_type": "code",
   "execution_count": 60,
   "id": "43e5fa15-bc78-46f7-9584-75a3b409feee",
   "metadata": {},
   "outputs": [
    {
     "ename": "KeyboardInterrupt",
     "evalue": "",
     "output_type": "error",
     "traceback": [
      "\u001b[1;31m---------------------------------------------------------------------------\u001b[0m",
      "\u001b[1;31mKeyboardInterrupt\u001b[0m                         Traceback (most recent call last)",
      "Cell \u001b[1;32mIn[60], line 1\u001b[0m\n\u001b[1;32m----> 1\u001b[0m \u001b[38;5;28;43;01mfor\u001b[39;49;00m\u001b[43m \u001b[49m\u001b[43mi\u001b[49m\u001b[43m,\u001b[49m\u001b[43m \u001b[49m\u001b[43mdata\u001b[49m\u001b[43m \u001b[49m\u001b[38;5;129;43;01min\u001b[39;49;00m\u001b[43m \u001b[49m\u001b[38;5;28;43menumerate\u001b[39;49m\u001b[43m(\u001b[49m\u001b[43mtrain_data_loader\u001b[49m\u001b[43m)\u001b[49m\u001b[43m:\u001b[49m\n\u001b[0;32m      2\u001b[0m \u001b[43m    \u001b[49m\u001b[38;5;28;43;01mif\u001b[39;49;00m\u001b[43m \u001b[49m\u001b[43mi\u001b[49m\u001b[43m \u001b[49m\u001b[38;5;241;43m==\u001b[39;49m\u001b[43m \u001b[49m\u001b[38;5;241;43m3\u001b[39;49m\u001b[43m:\u001b[49m\n\u001b[0;32m      3\u001b[0m \u001b[43m        \u001b[49m\u001b[43mimg_tensor\u001b[49m\u001b[43m \u001b[49m\u001b[38;5;241;43m=\u001b[39;49m\u001b[43m \u001b[49m\u001b[43mdata\u001b[49m\u001b[43m[\u001b[49m\u001b[38;5;241;43m0\u001b[39;49m\u001b[43m]\u001b[49m\u001b[43m[\u001b[49m\u001b[38;5;241;43m0\u001b[39;49m\u001b[43m]\u001b[49m\n",
      "File \u001b[1;32m~\\scoop\\apps\\python\\current\\Lib\\site-packages\\torch\\utils\\data\\dataloader.py:631\u001b[0m, in \u001b[0;36m_BaseDataLoaderIter.__next__\u001b[1;34m(self)\u001b[0m\n\u001b[0;32m    628\u001b[0m \u001b[38;5;28;01mif\u001b[39;00m \u001b[38;5;28mself\u001b[39m\u001b[38;5;241m.\u001b[39m_sampler_iter \u001b[38;5;129;01mis\u001b[39;00m \u001b[38;5;28;01mNone\u001b[39;00m:\n\u001b[0;32m    629\u001b[0m     \u001b[38;5;66;03m# TODO(https://github.com/pytorch/pytorch/issues/76750)\u001b[39;00m\n\u001b[0;32m    630\u001b[0m     \u001b[38;5;28mself\u001b[39m\u001b[38;5;241m.\u001b[39m_reset()  \u001b[38;5;66;03m# type: ignore[call-arg]\u001b[39;00m\n\u001b[1;32m--> 631\u001b[0m data \u001b[38;5;241m=\u001b[39m \u001b[38;5;28;43mself\u001b[39;49m\u001b[38;5;241;43m.\u001b[39;49m\u001b[43m_next_data\u001b[49m\u001b[43m(\u001b[49m\u001b[43m)\u001b[49m\n\u001b[0;32m    632\u001b[0m \u001b[38;5;28mself\u001b[39m\u001b[38;5;241m.\u001b[39m_num_yielded \u001b[38;5;241m+\u001b[39m\u001b[38;5;241m=\u001b[39m \u001b[38;5;241m1\u001b[39m\n\u001b[0;32m    633\u001b[0m \u001b[38;5;28;01mif\u001b[39;00m \u001b[38;5;28mself\u001b[39m\u001b[38;5;241m.\u001b[39m_dataset_kind \u001b[38;5;241m==\u001b[39m _DatasetKind\u001b[38;5;241m.\u001b[39mIterable \u001b[38;5;129;01mand\u001b[39;00m \\\n\u001b[0;32m    634\u001b[0m         \u001b[38;5;28mself\u001b[39m\u001b[38;5;241m.\u001b[39m_IterableDataset_len_called \u001b[38;5;129;01mis\u001b[39;00m \u001b[38;5;129;01mnot\u001b[39;00m \u001b[38;5;28;01mNone\u001b[39;00m \u001b[38;5;129;01mand\u001b[39;00m \\\n\u001b[0;32m    635\u001b[0m         \u001b[38;5;28mself\u001b[39m\u001b[38;5;241m.\u001b[39m_num_yielded \u001b[38;5;241m>\u001b[39m \u001b[38;5;28mself\u001b[39m\u001b[38;5;241m.\u001b[39m_IterableDataset_len_called:\n",
      "File \u001b[1;32m~\\scoop\\apps\\python\\current\\Lib\\site-packages\\torch\\utils\\data\\dataloader.py:1329\u001b[0m, in \u001b[0;36m_MultiProcessingDataLoaderIter._next_data\u001b[1;34m(self)\u001b[0m\n\u001b[0;32m   1326\u001b[0m     \u001b[38;5;28;01mreturn\u001b[39;00m \u001b[38;5;28mself\u001b[39m\u001b[38;5;241m.\u001b[39m_process_data(data)\n\u001b[0;32m   1328\u001b[0m \u001b[38;5;28;01massert\u001b[39;00m \u001b[38;5;129;01mnot\u001b[39;00m \u001b[38;5;28mself\u001b[39m\u001b[38;5;241m.\u001b[39m_shutdown \u001b[38;5;129;01mand\u001b[39;00m \u001b[38;5;28mself\u001b[39m\u001b[38;5;241m.\u001b[39m_tasks_outstanding \u001b[38;5;241m>\u001b[39m \u001b[38;5;241m0\u001b[39m\n\u001b[1;32m-> 1329\u001b[0m idx, data \u001b[38;5;241m=\u001b[39m \u001b[38;5;28;43mself\u001b[39;49m\u001b[38;5;241;43m.\u001b[39;49m\u001b[43m_get_data\u001b[49m\u001b[43m(\u001b[49m\u001b[43m)\u001b[49m\n\u001b[0;32m   1330\u001b[0m \u001b[38;5;28mself\u001b[39m\u001b[38;5;241m.\u001b[39m_tasks_outstanding \u001b[38;5;241m-\u001b[39m\u001b[38;5;241m=\u001b[39m \u001b[38;5;241m1\u001b[39m\n\u001b[0;32m   1331\u001b[0m \u001b[38;5;28;01mif\u001b[39;00m \u001b[38;5;28mself\u001b[39m\u001b[38;5;241m.\u001b[39m_dataset_kind \u001b[38;5;241m==\u001b[39m _DatasetKind\u001b[38;5;241m.\u001b[39mIterable:\n\u001b[0;32m   1332\u001b[0m     \u001b[38;5;66;03m# Check for _IterableDatasetStopIteration\u001b[39;00m\n",
      "File \u001b[1;32m~\\scoop\\apps\\python\\current\\Lib\\site-packages\\torch\\utils\\data\\dataloader.py:1295\u001b[0m, in \u001b[0;36m_MultiProcessingDataLoaderIter._get_data\u001b[1;34m(self)\u001b[0m\n\u001b[0;32m   1291\u001b[0m     \u001b[38;5;66;03m# In this case, `self._data_queue` is a `queue.Queue`,. But we don't\u001b[39;00m\n\u001b[0;32m   1292\u001b[0m     \u001b[38;5;66;03m# need to call `.task_done()` because we don't use `.join()`.\u001b[39;00m\n\u001b[0;32m   1293\u001b[0m \u001b[38;5;28;01melse\u001b[39;00m:\n\u001b[0;32m   1294\u001b[0m     \u001b[38;5;28;01mwhile\u001b[39;00m \u001b[38;5;28;01mTrue\u001b[39;00m:\n\u001b[1;32m-> 1295\u001b[0m         success, data \u001b[38;5;241m=\u001b[39m \u001b[38;5;28;43mself\u001b[39;49m\u001b[38;5;241;43m.\u001b[39;49m\u001b[43m_try_get_data\u001b[49m\u001b[43m(\u001b[49m\u001b[43m)\u001b[49m\n\u001b[0;32m   1296\u001b[0m         \u001b[38;5;28;01mif\u001b[39;00m success:\n\u001b[0;32m   1297\u001b[0m             \u001b[38;5;28;01mreturn\u001b[39;00m data\n",
      "File \u001b[1;32m~\\scoop\\apps\\python\\current\\Lib\\site-packages\\torch\\utils\\data\\dataloader.py:1133\u001b[0m, in \u001b[0;36m_MultiProcessingDataLoaderIter._try_get_data\u001b[1;34m(self, timeout)\u001b[0m\n\u001b[0;32m   1120\u001b[0m \u001b[38;5;28;01mdef\u001b[39;00m \u001b[38;5;21m_try_get_data\u001b[39m(\u001b[38;5;28mself\u001b[39m, timeout\u001b[38;5;241m=\u001b[39m_utils\u001b[38;5;241m.\u001b[39mMP_STATUS_CHECK_INTERVAL):\n\u001b[0;32m   1121\u001b[0m     \u001b[38;5;66;03m# Tries to fetch data from `self._data_queue` once for a given timeout.\u001b[39;00m\n\u001b[0;32m   1122\u001b[0m     \u001b[38;5;66;03m# This can also be used as inner loop of fetching without timeout, with\u001b[39;00m\n\u001b[1;32m   (...)\u001b[0m\n\u001b[0;32m   1130\u001b[0m     \u001b[38;5;66;03m# Returns a 2-tuple:\u001b[39;00m\n\u001b[0;32m   1131\u001b[0m     \u001b[38;5;66;03m#   (bool: whether successfully get data, any: data if successful else None)\u001b[39;00m\n\u001b[0;32m   1132\u001b[0m     \u001b[38;5;28;01mtry\u001b[39;00m:\n\u001b[1;32m-> 1133\u001b[0m         data \u001b[38;5;241m=\u001b[39m \u001b[38;5;28;43mself\u001b[39;49m\u001b[38;5;241;43m.\u001b[39;49m\u001b[43m_data_queue\u001b[49m\u001b[38;5;241;43m.\u001b[39;49m\u001b[43mget\u001b[49m\u001b[43m(\u001b[49m\u001b[43mtimeout\u001b[49m\u001b[38;5;241;43m=\u001b[39;49m\u001b[43mtimeout\u001b[49m\u001b[43m)\u001b[49m\n\u001b[0;32m   1134\u001b[0m         \u001b[38;5;28;01mreturn\u001b[39;00m (\u001b[38;5;28;01mTrue\u001b[39;00m, data)\n\u001b[0;32m   1135\u001b[0m     \u001b[38;5;28;01mexcept\u001b[39;00m \u001b[38;5;167;01mException\u001b[39;00m \u001b[38;5;28;01mas\u001b[39;00m e:\n\u001b[0;32m   1136\u001b[0m         \u001b[38;5;66;03m# At timeout and error, we manually check whether any worker has\u001b[39;00m\n\u001b[0;32m   1137\u001b[0m         \u001b[38;5;66;03m# failed. Note that this is the only mechanism for Windows to detect\u001b[39;00m\n\u001b[0;32m   1138\u001b[0m         \u001b[38;5;66;03m# worker failures.\u001b[39;00m\n",
      "File \u001b[1;32m~\\scoop\\apps\\python\\current\\Lib\\multiprocessing\\queues.py:113\u001b[0m, in \u001b[0;36mQueue.get\u001b[1;34m(self, block, timeout)\u001b[0m\n\u001b[0;32m    111\u001b[0m \u001b[38;5;28;01mif\u001b[39;00m block:\n\u001b[0;32m    112\u001b[0m     timeout \u001b[38;5;241m=\u001b[39m deadline \u001b[38;5;241m-\u001b[39m time\u001b[38;5;241m.\u001b[39mmonotonic()\n\u001b[1;32m--> 113\u001b[0m     \u001b[38;5;28;01mif\u001b[39;00m \u001b[38;5;129;01mnot\u001b[39;00m \u001b[38;5;28;43mself\u001b[39;49m\u001b[38;5;241;43m.\u001b[39;49m\u001b[43m_poll\u001b[49m\u001b[43m(\u001b[49m\u001b[43mtimeout\u001b[49m\u001b[43m)\u001b[49m:\n\u001b[0;32m    114\u001b[0m         \u001b[38;5;28;01mraise\u001b[39;00m Empty\n\u001b[0;32m    115\u001b[0m \u001b[38;5;28;01melif\u001b[39;00m \u001b[38;5;129;01mnot\u001b[39;00m \u001b[38;5;28mself\u001b[39m\u001b[38;5;241m.\u001b[39m_poll():\n",
      "File \u001b[1;32m~\\scoop\\apps\\python\\current\\Lib\\multiprocessing\\connection.py:257\u001b[0m, in \u001b[0;36m_ConnectionBase.poll\u001b[1;34m(self, timeout)\u001b[0m\n\u001b[0;32m    255\u001b[0m \u001b[38;5;28mself\u001b[39m\u001b[38;5;241m.\u001b[39m_check_closed()\n\u001b[0;32m    256\u001b[0m \u001b[38;5;28mself\u001b[39m\u001b[38;5;241m.\u001b[39m_check_readable()\n\u001b[1;32m--> 257\u001b[0m \u001b[38;5;28;01mreturn\u001b[39;00m \u001b[38;5;28;43mself\u001b[39;49m\u001b[38;5;241;43m.\u001b[39;49m\u001b[43m_poll\u001b[49m\u001b[43m(\u001b[49m\u001b[43mtimeout\u001b[49m\u001b[43m)\u001b[49m\n",
      "File \u001b[1;32m~\\scoop\\apps\\python\\current\\Lib\\multiprocessing\\connection.py:346\u001b[0m, in \u001b[0;36mPipeConnection._poll\u001b[1;34m(self, timeout)\u001b[0m\n\u001b[0;32m    343\u001b[0m \u001b[38;5;28;01mif\u001b[39;00m (\u001b[38;5;28mself\u001b[39m\u001b[38;5;241m.\u001b[39m_got_empty_message \u001b[38;5;129;01mor\u001b[39;00m\n\u001b[0;32m    344\u001b[0m             _winapi\u001b[38;5;241m.\u001b[39mPeekNamedPipe(\u001b[38;5;28mself\u001b[39m\u001b[38;5;241m.\u001b[39m_handle)[\u001b[38;5;241m0\u001b[39m] \u001b[38;5;241m!=\u001b[39m \u001b[38;5;241m0\u001b[39m):\n\u001b[0;32m    345\u001b[0m     \u001b[38;5;28;01mreturn\u001b[39;00m \u001b[38;5;28;01mTrue\u001b[39;00m\n\u001b[1;32m--> 346\u001b[0m \u001b[38;5;28;01mreturn\u001b[39;00m \u001b[38;5;28mbool\u001b[39m(\u001b[43mwait\u001b[49m\u001b[43m(\u001b[49m\u001b[43m[\u001b[49m\u001b[38;5;28;43mself\u001b[39;49m\u001b[43m]\u001b[49m\u001b[43m,\u001b[49m\u001b[43m \u001b[49m\u001b[43mtimeout\u001b[49m\u001b[43m)\u001b[49m)\n",
      "File \u001b[1;32m~\\scoop\\apps\\python\\current\\Lib\\multiprocessing\\connection.py:1083\u001b[0m, in \u001b[0;36mwait\u001b[1;34m(object_list, timeout)\u001b[0m\n\u001b[0;32m   1080\u001b[0m                 ready_objects\u001b[38;5;241m.\u001b[39madd(o)\n\u001b[0;32m   1081\u001b[0m                 timeout \u001b[38;5;241m=\u001b[39m \u001b[38;5;241m0\u001b[39m\n\u001b[1;32m-> 1083\u001b[0m     ready_handles \u001b[38;5;241m=\u001b[39m \u001b[43m_exhaustive_wait\u001b[49m\u001b[43m(\u001b[49m\u001b[43mwaithandle_to_obj\u001b[49m\u001b[38;5;241;43m.\u001b[39;49m\u001b[43mkeys\u001b[49m\u001b[43m(\u001b[49m\u001b[43m)\u001b[49m\u001b[43m,\u001b[49m\u001b[43m \u001b[49m\u001b[43mtimeout\u001b[49m\u001b[43m)\u001b[49m\n\u001b[0;32m   1084\u001b[0m \u001b[38;5;28;01mfinally\u001b[39;00m:\n\u001b[0;32m   1085\u001b[0m     \u001b[38;5;66;03m# request that overlapped reads stop\u001b[39;00m\n\u001b[0;32m   1086\u001b[0m     \u001b[38;5;28;01mfor\u001b[39;00m ov \u001b[38;5;129;01min\u001b[39;00m ov_list:\n",
      "File \u001b[1;32m~\\scoop\\apps\\python\\current\\Lib\\multiprocessing\\connection.py:1015\u001b[0m, in \u001b[0;36m_exhaustive_wait\u001b[1;34m(handles, timeout)\u001b[0m\n\u001b[0;32m   1013\u001b[0m ready \u001b[38;5;241m=\u001b[39m []\n\u001b[0;32m   1014\u001b[0m \u001b[38;5;28;01mwhile\u001b[39;00m L:\n\u001b[1;32m-> 1015\u001b[0m     res \u001b[38;5;241m=\u001b[39m \u001b[43m_winapi\u001b[49m\u001b[38;5;241;43m.\u001b[39;49m\u001b[43mWaitForMultipleObjects\u001b[49m\u001b[43m(\u001b[49m\u001b[43mL\u001b[49m\u001b[43m,\u001b[49m\u001b[43m \u001b[49m\u001b[38;5;28;43;01mFalse\u001b[39;49;00m\u001b[43m,\u001b[49m\u001b[43m \u001b[49m\u001b[43mtimeout\u001b[49m\u001b[43m)\u001b[49m\n\u001b[0;32m   1016\u001b[0m     \u001b[38;5;28;01mif\u001b[39;00m res \u001b[38;5;241m==\u001b[39m WAIT_TIMEOUT:\n\u001b[0;32m   1017\u001b[0m         \u001b[38;5;28;01mbreak\u001b[39;00m\n",
      "\u001b[1;31mKeyboardInterrupt\u001b[0m: "
     ]
    }
   ],
   "source": [
    "for i, data in enumerate(train_data_loader):\n",
    "    if i == 3:\n",
    "        img_tensor = data[0][0]\n",
    "        shape = list(img_tensor.shape)\n",
    "        print(shape)\n",
    "        IMAGE_DIM_X = shape[1]\n",
    "        img = data[0][0].reshape(shape[1], shape[2])\n",
    "        print(img.shape)\n",
    "        plt.imshow(img.numpy())\n",
    "        break"
   ]
  },
  {
   "cell_type": "code",
   "execution_count": null,
   "id": "27a29623-852c-48b3-8cd7-a6538cde61c9",
   "metadata": {},
   "outputs": [],
   "source": [
    "discriminator_conv_out_channels = 32"
   ]
  },
  {
   "cell_type": "code",
   "execution_count": null,
   "id": "ea0982f4-19d1-46ca-aea5-530305a75af0",
   "metadata": {},
   "outputs": [],
   "source": [
    "class Discriminator(nn.Module):\n",
    "    def __init__(self):\n",
    "        super(Discriminator, self).__init__()\n",
    "\n",
    "        kernel_size = 5\n",
    "        padding = 0\n",
    "        stride = 1\n",
    "\n",
    "        output_size = int(((IMAGE_DIM_X - kernel_size + 2*padding) / stride) + 1)\n",
    "\n",
    "        self.convs = nn.Sequential(\n",
    "            nn.Conv2d(\n",
    "                11,\n",
    "                kernel_size=kernel_size,\n",
    "                out_channels=discriminator_conv_out_channels,\n",
    "                padding=padding,\n",
    "                stride=stride\n",
    "            ),\n",
    "            nn.BatchNorm2d(discriminator_conv_out_channels),\n",
    "            nn.ReLU()\n",
    "        )\n",
    "        self.expected_linear_input_size = discriminator_conv_out_channels * output_size * output_size\n",
    "\n",
    "        self.classifier = nn.Sequential(\n",
    "            nn.Linear(self.expected_linear_input_size, 1),  # 1 for single scalar value (confidence)\n",
    "            nn.Sigmoid()\n",
    "        )\n",
    "\n",
    "    def forward(self, x):\n",
    "        x = self.convs(x)\n",
    "        x = x.reshape(-1, self.expected_linear_input_size)  # flatten and preserve batch dim\n",
    "        x = self.classifier(x)\n",
    "        return x"
   ]
  },
  {
   "cell_type": "code",
   "execution_count": null,
   "id": "782807f3-e3ce-47df-a421-4982cf0b1840",
   "metadata": {},
   "outputs": [],
   "source": [
    "GENERATOR_INPUT_DIM = 25"
   ]
  },
  {
   "cell_type": "code",
   "execution_count": null,
   "id": "325d6f98-d0c0-4d43-ab0c-14fefcd3a4e0",
   "metadata": {},
   "outputs": [],
   "source": [
    "generator_deconv_input_dim = 10\n",
    "linear_out_size = discriminator_conv_out_channels * generator_deconv_input_dim * generator_deconv_input_dim\n",
    "\n",
    "\n",
    "class Generator(nn.Module):\n",
    "    def __init__(self):\n",
    "        super(Generator, self).__init__()\n",
    "\n",
    "        self.linear = nn.Sequential(\n",
    "            nn.Linear(GENERATOR_INPUT_DIM, linear_out_size),\n",
    "            nn.BatchNorm1d(linear_out_size),\n",
    "            nn.ReLU(),\n",
    "        )\n",
    "\n",
    "        self.deconvs = nn.Sequential(\n",
    "            nn.ConvTranspose2d(\n",
    "                discriminator_conv_out_channels,\n",
    "                discriminator_conv_out_channels,\n",
    "                kernel_size=7\n",
    "            ),\n",
    "            nn.BatchNorm2d(discriminator_conv_out_channels),\n",
    "            nn.ReLU(),\n",
    "\n",
    "            nn.ConvTranspose2d(discriminator_conv_out_channels, 1, kernel_size=13),\n",
    "            nn.Tanh()\n",
    "        )\n",
    "\n",
    "    def forward(self, x):\n",
    "        x = self.linear(x)\n",
    "        x = x.reshape(\n",
    "            BATCH_SIZE,\n",
    "            discriminator_conv_out_channels,\n",
    "            generator_deconv_input_dim,\n",
    "            generator_deconv_input_dim\n",
    "        )\n",
    "        x = self.deconvs(x)\n",
    "        return x"
   ]
  },
  {
   "cell_type": "code",
   "execution_count": null,
   "id": "d67ba0e1-d975-4c38-b261-540f3f606e02",
   "metadata": {},
   "outputs": [],
   "source": [
    "generator = Generator().to(DEVICE)\n",
    "discriminator = Discriminator().to(DEVICE)"
   ]
  },
  {
   "cell_type": "code",
   "execution_count": null,
   "id": "d460213e-badb-406a-893b-12d3b68035ea",
   "metadata": {},
   "outputs": [],
   "source": [
    "bce = nn.BCELoss().to(DEVICE)\n",
    "\n",
    "discriminator_opt = torch.optim.Adam(discriminator.parameters(), lr=0.001, betas=(0.5, 0.999))\n",
    "generator_opt = torch.optim.Adam(generator.parameters(), lr=0.001, betas=(0.5, 0.999))"
   ]
  },
  {
   "cell_type": "code",
   "execution_count": null,
   "id": "5218ef90-55da-4789-91c0-ae42300478c5",
   "metadata": {},
   "outputs": [],
   "source": [
    "test_generator = Generator().to(DEVICE)\n",
    "\n",
    "test_noise = torch.randn(BATCH_SIZE, GENERATOR_INPUT_DIM).to(DEVICE)\n",
    "print('noise shape', test_noise.shape)\n",
    "\n",
    "test_out = test_generator(test_noise)\n",
    "print('test out shape', test_out.shape)\n",
    "print('test out 0 shape', test_out[0].shape)\n",
    "\n",
    "plt.imshow(test_out[0].reshape(test_out.shape[2], test_out.shape[3]).cpu().detach())"
   ]
  },
  {
   "cell_type": "code",
   "execution_count": null,
   "id": "0058d197-2c1b-4500-89f2-955921bb2cec",
   "metadata": {},
   "outputs": [],
   "source": [
    "def create_noise(offset=10):  # subtract this for labels\n",
    "    n = torch.randn(BATCH_SIZE, GENERATOR_INPUT_DIM - offset).to(DEVICE)\n",
    "    return n"
   ]
  },
  {
   "cell_type": "code",
   "execution_count": null,
   "id": "be9ff8b9-22fe-40d8-b2ef-af453e07add2",
   "metadata": {},
   "outputs": [],
   "source": [
    "def test_generate_from_noise():\n",
    "    noise = create_noise(0)\n",
    "    out = generator(noise)\n",
    "    return out[0].reshape(out.shape[2], out.shape[3]).cpu().detach()  # [1, 28, 28] -> [28, 28]"
   ]
  },
  {
   "cell_type": "code",
   "execution_count": null,
   "id": "6177735e-2a67-43de-a337-1a64631063e6",
   "metadata": {},
   "outputs": [],
   "source": [
    "plt.imshow(test_generate_from_noise())"
   ]
  },
  {
   "cell_type": "code",
   "execution_count": null,
   "id": "f2f3e6d1-4f17-4d4c-b96b-31915d878b92",
   "metadata": {},
   "outputs": [],
   "source": [
    "def to_one_hot(labels, num_classes):\n",
    "    one_hot = torch.zeros(len(labels), num_classes)\n",
    "    one_hot.scatter_(1, labels.unsqueeze(1), 1)\n",
    "    return one_hot.to(DEVICE)"
   ]
  },
  {
   "cell_type": "code",
   "execution_count": null,
   "id": "0b3941d6-14c8-4185-afea-4e3ab94b30c5",
   "metadata": {
    "scrolled": true
   },
   "outputs": [],
   "source": [
    "EPOCHS = 11\n",
    "\n",
    "for epoch in range(EPOCHS):\n",
    "    for i, data in enumerate(train_data_loader):\n",
    "        real_image = data[0].to(DEVICE)\n",
    "        one_hot = to_one_hot(data[1], 10)\n",
    "\n",
    "        # train discriminator\n",
    "\n",
    "        # learn real image\n",
    "        discriminator.zero_grad()\n",
    "        oh_broadcasted = one_hot.unsqueeze(-1).unsqueeze(-1).expand(-1, -1, 28, 28)\n",
    "        image_with_classes = torch.cat((real_image, oh_broadcasted), dim=1)\n",
    "        discriminator_out_real = discriminator(image_with_classes)\n",
    "        discriminator_loss_real = bce(\n",
    "            discriminator_out_real,\n",
    "            torch.ones(  # every real image is a 1\n",
    "                discriminator_out_real.shape[0],\n",
    "                discriminator_out_real.shape[1]\n",
    "            ).to(DEVICE)\n",
    "        )\n",
    "        discriminator_loss_real.backward()\n",
    "        discriminator_opt.step()\n",
    "\n",
    "        # learn generated as fake\n",
    "        discriminator.zero_grad()\n",
    "        noise_dtrain = create_noise(10)\n",
    "        noise_dtrain_with_classes = torch.cat(\n",
    "            (\n",
    "                noise_dtrain,\n",
    "                one_hot\n",
    "            ),\n",
    "            dim=1\n",
    "        )\n",
    "        generator_out = generator(noise_dtrain_with_classes)\n",
    "        out_with_classes = torch.cat((generator_out, oh_broadcasted), dim=1)\n",
    "        discriminator_out = discriminator(out_with_classes)\n",
    "\n",
    "        discriminator_loss_fake = bce(\n",
    "            discriminator_out,\n",
    "            torch.zeros(  # every fake image is a 0\n",
    "                discriminator_out.shape[0],\n",
    "                discriminator_out.shape[1]\n",
    "            ).to(DEVICE)\n",
    "        )\n",
    "\n",
    "        discriminator_loss_fake.backward()\n",
    "        discriminator_opt.step()\n",
    "\n",
    "        # train generator\n",
    "\n",
    "        generator.zero_grad()\n",
    "        # recompute outputs to avoid backward 2 times error\n",
    "        noise_gtrain = create_noise(0)\n",
    "        generator_out = generator(noise_gtrain)\n",
    "        out_with_classes = torch.cat((generator_out, oh_broadcasted), dim=1)\n",
    "        discriminator_out = discriminator(out_with_classes)\n",
    "\n",
    "        generator_loss = bce(\n",
    "            discriminator_out,\n",
    "            torch.ones(\n",
    "                discriminator_out.shape[0],\n",
    "                discriminator_out.shape[1]\n",
    "            ).to(DEVICE)\n",
    "        )\n",
    "\n",
    "        generator_loss.backward()\n",
    "        generator_opt.step()\n",
    "\n",
    "    print('EPOCH:', epoch)\n",
    "    noise_disp = create_noise(0)\n",
    "    out = generator(noise_disp)\n",
    "    plt.imshow(\n",
    "        out[0].reshape(\n",
    "            out.shape[2],\n",
    "            out.shape[3]\n",
    "        ).cpu().detach()\n",
    "    )\n",
    "    plt.show()"
   ]
  },
  {
   "cell_type": "code",
   "execution_count": null,
   "id": "94825c59-16b8-4a1f-bfc2-ddc5e1d17a8a",
   "metadata": {},
   "outputs": [],
   "source": []
  },
  {
   "cell_type": "code",
   "execution_count": null,
   "id": "aa1dcdb5-8dfb-4eeb-af5a-2ac157cf5dd1",
   "metadata": {},
   "outputs": [],
   "source": [
    "    BATCH_SIZE = 1\n",
    "\n",
    "    label = torch.zeros(1, 10).to(DEVICE)\n",
    "    label[0, 8] = 1\n",
    "\n",
    "    noise_disp = create_noise(offset=10)\n",
    "    generator.eval()\n",
    "    with torch.no_grad():\n",
    "        out = generator(torch.cat((noise_disp, label), dim=1))\n",
    "        plt.imshow(\n",
    "            out[0].reshape(\n",
    "                out.shape[2],\n",
    "                out.shape[3]\n",
    "            ).cpu().detach()\n",
    "        )\n",
    "        plt.show()"
   ]
  },
  {
   "cell_type": "code",
   "execution_count": null,
   "id": "6c6a0cd7-769b-4f47-a288-faf3cc3ea95b",
   "metadata": {},
   "outputs": [],
   "source": []
  },
  {
   "cell_type": "code",
   "execution_count": null,
   "id": "59dcdcd5-1f42-4a4e-87c0-4ff46f19d83f",
   "metadata": {},
   "outputs": [],
   "source": []
  }
 ],
 "metadata": {
  "kernelspec": {
   "display_name": "Python 3 (ipykernel)",
   "language": "python",
   "name": "python3"
  },
  "language_info": {
   "codemirror_mode": {
    "name": "ipython",
    "version": 3
   },
   "file_extension": ".py",
   "mimetype": "text/x-python",
   "name": "python",
   "nbconvert_exporter": "python",
   "pygments_lexer": "ipython3",
   "version": "3.12.1"
  }
 },
 "nbformat": 4,
 "nbformat_minor": 5
}
