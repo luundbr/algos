{
 "cells": [
  {
   "cell_type": "code",
   "execution_count": 131,
   "id": "bb9b01dc-031c-46da-b56a-db9e127b2623",
   "metadata": {},
   "outputs": [],
   "source": [
    "import torch\n",
    "import torch.nn as nn\n",
    "from torch.utils.data import Dataset, DataLoader\n",
    "from torch.nn.utils.rnn import pad_sequence"
   ]
  },
  {
   "cell_type": "code",
   "execution_count": null,
   "id": "dfd993c4-7a46-4d0f-8bee-adeda01642fd",
   "metadata": {},
   "outputs": [],
   "source": []
  },
  {
   "cell_type": "code",
   "execution_count": 132,
   "id": "a1bb8f9b-9dc7-46b4-b033-edb62eeef0a2",
   "metadata": {},
   "outputs": [],
   "source": [
    "def attention(Q, K, V):\n",
    "    downscaler = torch.sqrt(torch.tensor(Q.size(-1)))\n",
    "\n",
    "    # attention scores (b, m, n)\n",
    "    S = torch.matmul(Q, K.transpose(-2, -1)) / downscaler  # 4,2,10 -> 4,10,2\n",
    "\n",
    "    attention_weights = nn.functional.softmax(S, dim=1)\n",
    "    \n",
    "    out = torch.matmul(\n",
    "        attention_weights,\n",
    "        V\n",
    "    )\n",
    "    return out, attention_weights"
   ]
  },
  {
   "cell_type": "code",
   "execution_count": null,
   "id": "28b22ae0-c73a-4775-93e9-48e28ea78b38",
   "metadata": {},
   "outputs": [],
   "source": [
    "def multihead_attention(Q, K, V, nheads):\n",
    "\n",
    "    Q = Q.chunk(nheads, dim=-1)\n",
    "    K = K.chunk(nheads, dim=-1)\n",
    "    V = V.chunk(nheads, dim=-1)\n",
    "\n",
    "    outputs = []\n",
    "    weights = []\n",
    "    for i in range(nheads):\n",
    "        Q_i = Q[i]\n",
    "        K_i = K[i]\n",
    "        V_i = V[i]\n",
    "\n",
    "        downscaler = torch.sqrt(torch.tensor(Q_i.size(-1)))\n",
    "        \n",
    "        # attention scores (b, m, n)\n",
    "        S = torch.matmul(Q_i, K_i.transpose(-2, -1)) / downscaler  # 4,2,10 -> 4,10,2\n",
    "    \n",
    "        attention_weights = nn.functional.softmax(S, dim=1)\n",
    "        \n",
    "        out = torch.matmul(\n",
    "            attention_weights,\n",
    "            V_i\n",
    "        )\n",
    "        outputs.append(out)\n",
    "        weights.append(attention_weights)\n",
    "\n",
    "    out = torch.cat(outputs, dim=-1)\n",
    "    attention_weights = torch.stack(weights, dim=1)\n",
    "\n",
    "    return out, attention_weights"
   ]
  },
  {
   "cell_type": "code",
   "execution_count": 133,
   "id": "87b370a6-2afd-4aeb-9c46-4ee7c0fc019f",
   "metadata": {},
   "outputs": [],
   "source": [
    "def one_hot(word, vocab):\n",
    "    one_hot_vector = [0] * len(vocab)\n",
    "    one_hot_vector[vocab.index(word)] = 1\n",
    "    return torch.tensor(one_hot_vector).unsqueeze(0)"
   ]
  },
  {
   "cell_type": "code",
   "execution_count": 134,
   "id": "e8e8e647-cb73-483d-be32-6122ed2e94e4",
   "metadata": {},
   "outputs": [],
   "source": [
    "sentence = 'The quick brown fox jumps over the lazy dog'\n",
    "\n",
    "vocab = sentence.split()\n",
    "\n",
    "vocab_size = len(tokens)\n",
    "\n",
    "vocab_indices = torch.tensor([vocab.index(x) for x in vocab])"
   ]
  },
  {
   "cell_type": "code",
   "execution_count": 135,
   "id": "77a7612e-de2b-4ffc-8a1a-3de7c1b13dc8",
   "metadata": {},
   "outputs": [
    {
     "name": "stdout",
     "output_type": "stream",
     "text": [
      "['The', 'quick', 'brown', 'fox', 'jumps', 'over', 'the', 'lazy', 'dog']\n"
     ]
    }
   ],
   "source": [
    "print(vocab)"
   ]
  },
  {
   "cell_type": "code",
   "execution_count": 136,
   "id": "78a4aaea-be30-49fb-b7e5-80b68bf68d08",
   "metadata": {},
   "outputs": [],
   "source": [
    "embedding_dim = 10\n",
    "\n",
    "embedding_Q = nn.Embedding(vocab_size, embedding_dim)\n",
    "embedding_K = nn.Embedding(vocab_size, embedding_dim)\n",
    "embedding_V = nn.Embedding(vocab_size, embedding_dim)"
   ]
  },
  {
   "cell_type": "code",
   "execution_count": 137,
   "id": "0f6bb02f-b6fc-464a-9007-fa446ed9ecda",
   "metadata": {},
   "outputs": [],
   "source": [
    "query = 'fox'\n",
    "\n",
    "query_encoded = one_hot(query, vocab)\n",
    "query_embedding = embedding_Q(query_encoded)\n",
    "\n",
    "keys_encoded = torch.tensor(range(len(vocab))).unsqueeze(0)\n",
    "keys_embedding = embedding_K(keys_encoded)\n",
    "\n",
    "values_embedding = embedding_V(vocab_indices.unsqueeze(0))"
   ]
  },
  {
   "cell_type": "code",
   "execution_count": null,
   "id": "1d66229d-5891-4cce-9eff-7f16cf7e8f9b",
   "metadata": {},
   "outputs": [],
   "source": []
  },
  {
   "cell_type": "code",
   "execution_count": 138,
   "id": "c6ed5d82-5c65-41bd-b280-22d987550e3c",
   "metadata": {},
   "outputs": [
    {
     "name": "stdout",
     "output_type": "stream",
     "text": [
      "torch.Size([1, 9, 10])\n",
      "torch.Size([1, 9, 9])\n"
     ]
    }
   ],
   "source": [
    "scores, weights = attention(query_embedding, keys_embedding, values_embedding)\n",
    "\n",
    "print(scores.shape)\n",
    "print(weights.shape)"
   ]
  },
  {
   "cell_type": "code",
   "execution_count": 139,
   "id": "4d5bd544-e35f-448b-9da5-70b0eff28240",
   "metadata": {},
   "outputs": [
    {
     "name": "stdout",
     "output_type": "stream",
     "text": [
      "{'The': 0.11266357451677322,\n",
      " 'brown': 0.11266357451677322,\n",
      " 'dog': 0.11266357451677322,\n",
      " 'fox': 0.09869139641523361,\n",
      " 'jumps': 0.11266357451677322,\n",
      " 'lazy': 0.11266357451677322,\n",
      " 'over': 0.11266357451677322,\n",
      " 'quick': 0.11266357451677322,\n",
      " 'the': 0.11266357451677322}\n"
     ]
    }
   ],
   "source": [
    "scores_map = {}\n",
    "\n",
    "query_index = vocab.index(query)\n",
    "\n",
    "attention_for_query = weights[0][:, vocab.index(query)].tolist()\n",
    "\n",
    "for i, word in enumerate(vocab):\n",
    "    scores_map[word] = attention_for_query[i]\n",
    "\n",
    "from pprint import pprint\n",
    "pprint(scores_map)"
   ]
  },
  {
   "cell_type": "code",
   "execution_count": null,
   "id": "8651a0a2-0f4c-46c0-8b13-be534ce631f2",
   "metadata": {},
   "outputs": [],
   "source": []
  },
  {
   "cell_type": "code",
   "execution_count": 140,
   "id": "c3f65c23-b0ed-4c85-a532-4164477fa85e",
   "metadata": {},
   "outputs": [],
   "source": [
    "# batch, m, d\n",
    "Q = torch.randn([1, 2, 10])\n",
    "# batch, n, d\n",
    "K = torch.randn([1, 2, 10])\n",
    "V = torch.randn([1, 2, 10])"
   ]
  }
 ],
 "metadata": {
  "kernelspec": {
   "display_name": "Python 3 (ipykernel)",
   "language": "python",
   "name": "python3"
  },
  "language_info": {
   "codemirror_mode": {
    "name": "ipython",
    "version": 3
   },
   "file_extension": ".py",
   "mimetype": "text/x-python",
   "name": "python",
   "nbconvert_exporter": "python",
   "pygments_lexer": "ipython3",
   "version": "3.12.1"
  }
 },
 "nbformat": 4,
 "nbformat_minor": 5
}
